{
 "cells": [
  {
   "cell_type": "markdown",
   "id": "dd34118b",
   "metadata": {},
   "source": [
    "# Monte Carlo GPI\n",
    "\n",
    "The idea behind Monte Carlo methods for RL is very straightforward, we want to do this via GPI, where we try to estimate the value of state-action pairs based on sampling. \n",
    "\n",
    "Essentialy we will run episodes by following a policy $\\pi$(which can start as random). Then we will update an estimate of our $q$ function by the incrementing state-action pairs that occured in the episode:\n",
    "\n",
    "$$ q(s, a) \\leftarrow q(s, a) + \\frac{G(s, a) - q(s, a)}{u(s, a) + 1}$$\n",
    "\n",
    "Where $u(s, a)$ is the count of updates for this state-action pair, and $G(s, a)$ is the return we got in this episode after taking action $(s, a)$ for the first time(we will implement first visit Monte Carlo). This is just averaging over all first-visit results.\n",
    "\n",
    "After that we update $\\pi$ as an $\\epsilon$-greedy policy over $q$. Note that we must have $\\pi(s, a) > 0$ for all state-action pairs, else we can't guarantee enough exploration, and that's why we go with an $\\epsilon$-greedy policy.\n",
    "\n",
    "In this notebook, we will explore how we can create a simple agent class and some functions to help it learn a good policy. For future use all the relevant functions here will be a part of the MonteCarloAgent class implemented in the codebase."
   ]
  },
  {
   "cell_type": "code",
   "execution_count": 2,
   "id": "8c216754",
   "metadata": {},
   "outputs": [],
   "source": [
    "import sys\n",
    "\n",
    "sys.path.append(\"../../..\")\n",
    "\n",
    "import numpy as np\n",
    "import matplotlib.pyplot as plt\n",
    "\n",
    "from grid_world.action import Action\n",
    "from grid_world.grid_world import GridWorld\n",
    "from grid_world.visualization.format_objects import (\n",
    "    get_policy_rec_str,\n",
    "    get_policy_eval_str,\n",
    "    get_world_str,\n",
    ")\n",
    "from grid_world.utils.returns import returns_from_reward\n",
    "from grid_world.utils.policy import get_policy_rec, get_random_policy, sample_action\n",
    "from notebooks.utils.worlds import small_world_01\n",
    "from notebooks.utils.basics import basic_actions, basic_reward\n",
    "\n",
    "np.random.seed(21)"
   ]
  },
  {
   "cell_type": "markdown",
   "id": "5d845eb0",
   "metadata": {},
   "source": [
    "# World\n",
    "\n",
    "Monte Carlo is by no means an efficient method, so we will use a small deterministic word for this example."
   ]
  },
  {
   "cell_type": "code",
   "execution_count": 3,
   "id": "a79e9854",
   "metadata": {},
   "outputs": [
    {
     "name": "stdout",
     "output_type": "stream",
     "text": [
      "3               \n",
      "\n",
      "2          █    \n",
      "\n",
      "1    █     ☠    \n",
      "\n",
      "0 ⚐  █        ✘ \n",
      "\n",
      "  0  1  2  3  4 \n"
     ]
    }
   ],
   "source": [
    "print(get_world_str(small_world_01))"
   ]
  },
  {
   "cell_type": "markdown",
   "id": "664e9c58",
   "metadata": {},
   "source": [
    "# Agent\n",
    "\n",
    "Here we will define a simple Agent class to store relevant information and simple methods. \n",
    "\n",
    "The agent as we are defining isn't aware of the world it is in, which means that it doesn't know what are the possible states it can reach. This seems like a natural choice for me, as I don't see why we would require this knowledge, but this is somewhat different from some implementations described in the literature, although in practice this doesn't change.\n",
    "\n",
    "Important properties of our agent are its reward function and gamma value, which will dictate what he is trying to accomplish. The policy and $q$ function are also naturally a part of the agent."
   ]
  },
  {
   "cell_type": "code",
   "execution_count": 3,
   "id": "f2937c60",
   "metadata": {},
   "outputs": [],
   "source": [
    "def reward(e):\n",
    "    if e == 1:\n",
    "        return 0\n",
    "    elif e == -1:\n",
    "        return -10\n",
    "    else:\n",
    "        return -1\n",
    "\n",
    "\n",
    "class BasicAgent:\n",
    "    def __init__(\n",
    "        self,\n",
    "        reward_function,\n",
    "        actions=None,\n",
    "        policy=None,\n",
    "        gamma=1,\n",
    "    ):\n",
    "        self.actions = actions if actions is not None else tuple(Action)\n",
    "        self.policy = Policy if policy is not None else get_random_policy(self.actions)\n",
    "        self.reward_function = reward_function\n",
    "        self.gamma = gamma\n",
    "        self.q_map: dict[tuple[State, Action], float] = {}\n",
    "        self.u: dict[tuple[State, Action], int] = {}\n",
    "\n",
    "        self.q = lambda s, a: self.q_map.get((s, a), 0)\n",
    "\n",
    "    def get_visited_states(self) -> set:\n",
    "        return {x for x, y in agent.q_map.keys()}\n",
    "\n",
    "\n",
    "agent = BasicAgent(\n",
    "    reward_function=reward, actions=[Action.up, Action.down, Action.left, Action.right]\n",
    ")"
   ]
  },
  {
   "cell_type": "markdown",
   "id": "bdbfc638",
   "metadata": {},
   "source": [
    "# Episodes\n",
    "\n",
    "Alright in order to learn the agent needs to interact with the world, this is done through episodes. \n",
    "\n",
    "An epidsode consists of an agent starting in the initial position, selecting an action, going to a new position and receving an 'effect'(which will be interpreted by agent and transformed in a reward). Then it repeats the process until it reaches a terminal state or a certain threshold of steps is reached."
   ]
  },
  {
   "cell_type": "code",
   "execution_count": 4,
   "id": "1a26b391",
   "metadata": {},
   "outputs": [],
   "source": [
    "def run_episode(agent, world, initial_state=None, max_steps=1000000):\n",
    "\n",
    "    state = initial_state if initial_state is not None else world.initial_state\n",
    "    episode_terminated = False\n",
    "    episode_states = [state]\n",
    "    episode_actions = []\n",
    "    episode_rewards = []\n",
    "\n",
    "    for _ in range(max_steps):\n",
    "        action = sample_action(agent.policy, state, agent.actions)\n",
    "        state, effect = world.take_action(state, action)\n",
    "        reward = agent.reward_function(effect)\n",
    "\n",
    "        episode_actions.append(action)\n",
    "        episode_states.append(state)\n",
    "        episode_rewards.append(reward)\n",
    "\n",
    "        if state.kind == \"terminal\":\n",
    "            episode_terminated = True\n",
    "            break\n",
    "\n",
    "    return episode_terminated, episode_states, episode_actions, episode_rewards"
   ]
  },
  {
   "cell_type": "code",
   "execution_count": 5,
   "id": "6822701d",
   "metadata": {},
   "outputs": [],
   "source": [
    "episode_terminated, episode_states, episode_actions, episode_rewards = run_episode(\n",
    "    agent, gworld\n",
    ")\n",
    "episode_returns = returns_from_reward(episode_rewards)"
   ]
  },
  {
   "cell_type": "code",
   "execution_count": 6,
   "id": "81ad0a4b",
   "metadata": {},
   "outputs": [
    {
     "name": "stdout",
     "output_type": "stream",
     "text": [
      "state: State(coordinates=(0, 0), kind='initial') | action: ↑ | reward: -1.00 | return: -25.00 \n",
      "state: State(coordinates=(1, 0), kind='empty') | action: ↓ | reward: -1.00 | return: -24.00 \n",
      "state: State(coordinates=(0, 0), kind='initial') | action: ← | reward: -1.00 | return: -23.00 \n",
      "state: State(coordinates=(0, 0), kind='initial') | action: ↑ | reward: -1.00 | return: -22.00 \n",
      "state: State(coordinates=(1, 0), kind='empty') | action: ↑ | reward: -1.00 | return: -21.00 \n",
      "state: State(coordinates=(2, 0), kind='empty') | action: ↑ | reward: -1.00 | return: -20.00 \n",
      "state: State(coordinates=(3, 0), kind='empty') | action: ↓ | reward: -1.00 | return: -19.00 \n",
      "state: State(coordinates=(2, 0), kind='empty') | action: ← | reward: -1.00 | return: -18.00 \n",
      "state: State(coordinates=(2, 0), kind='empty') | action: ↓ | reward: -1.00 | return: -17.00 \n",
      "state: State(coordinates=(1, 0), kind='empty') | action: ← | reward: -1.00 | return: -16.00 \n",
      "state: State(coordinates=(1, 0), kind='empty') | action: ↑ | reward: -1.00 | return: -15.00 \n",
      "state: State(coordinates=(2, 0), kind='empty') | action: → | reward: -1.00 | return: -14.00 \n",
      "state: State(coordinates=(2, 1), kind='empty') | action: ↑ | reward: -1.00 | return: -13.00 \n",
      "state: State(coordinates=(3, 1), kind='empty') | action: ↑ | reward: -1.00 | return: -12.00 \n",
      "state: State(coordinates=(3, 1), kind='empty') | action: ↓ | reward: -1.00 | return: -11.00 \n",
      "state: State(coordinates=(2, 1), kind='empty') | action: → | reward: -1.00 | return: -10.00 \n",
      "state: State(coordinates=(2, 2), kind='empty') | action: → | reward: -1.00 | return: -9.00 \n",
      "state: State(coordinates=(2, 2), kind='empty') | action: → | reward: -1.00 | return: -8.00 \n",
      "state: State(coordinates=(2, 2), kind='empty') | action: → | reward: -1.00 | return: -7.00 \n",
      "state: State(coordinates=(2, 2), kind='empty') | action: ↓ | reward: -1.00 | return: -6.00 \n",
      "state: State(coordinates=(1, 2), kind='empty') | action: ↓ | reward: -1.00 | return: -5.00 \n",
      "state: State(coordinates=(0, 2), kind='empty') | action: ← | reward: -1.00 | return: -4.00 \n",
      "state: State(coordinates=(0, 2), kind='empty') | action: ↓ | reward: -1.00 | return: -3.00 \n",
      "state: State(coordinates=(0, 2), kind='empty') | action: → | reward: -1.00 | return: -2.00 \n",
      "state: State(coordinates=(0, 3), kind='empty') | action: → | reward: -1.00 | return: -1.00 \n",
      "terminated at state: State(coordinates=(0, 4), kind='terminal')\n"
     ]
    }
   ],
   "source": [
    "def get_sar_str(\n",
    "    episode_states, episode_actions, episode_rewards, episode_returns, world\n",
    "):\n",
    "    sars_str = \"\"\n",
    "    for i in range(len(episode_states)):\n",
    "        if episode_states[i].kind == \"terminal\":\n",
    "            sars_str += f\"terminated at state: {episode_states[i]}\"\n",
    "            break\n",
    "        else:\n",
    "            sars_str += f\"state: {episode_states[i]} | action: {episode_actions[i].unicode} | reward: {episode_rewards[i]:.2f} | return: {episode_returns[i]:.2f} \\n\"\n",
    "\n",
    "    return sars_str\n",
    "\n",
    "\n",
    "print(\n",
    "    get_sar_str(\n",
    "        episode_states, episode_actions, episode_rewards, episode_returns, gworld\n",
    "    )\n",
    ")"
   ]
  },
  {
   "cell_type": "markdown",
   "id": "578174f8",
   "metadata": {},
   "source": [
    "# Learning\n",
    "\n",
    "Monte Carlo agents are expected to 'learn' after each completed episode. By this I simply mean improving his expectations on how good taking an action in a state is, i.e. reestimating its q function."
   ]
  },
  {
   "cell_type": "code",
   "execution_count": 7,
   "id": "2e0ca069",
   "metadata": {},
   "outputs": [],
   "source": [
    "def first_visit_return(states, actions, returns):\n",
    "    fvr = {}\n",
    "    for i in range(len(returns)):\n",
    "        if (sa := (states[i], actions[i])) not in fvr:\n",
    "            fvr[sa] = returns[i]\n",
    "\n",
    "    return fvr\n",
    "\n",
    "\n",
    "def update_q(agent, fvr):\n",
    "\n",
    "    for s, a in fvr:\n",
    "        agent.u[(s, a)] = agent.u[(s, a)] + 1 if (s, a) in agent.u.keys() else 1\n",
    "        agent.q_map[(s, a)] = (\n",
    "            agent.q_map[(s, a)] + (fvr[(s, a)] - agent.q(s, a)) / agent.u[(s, a)]\n",
    "            if (s, a) in agent.q_map.keys()\n",
    "            else fvr[(s, a)]\n",
    "        )\n",
    "\n",
    "\n",
    "#     agent._update_q_function()\n",
    "\n",
    "fvr = first_visit_return(episode_states, episode_actions, episode_returns)\n",
    "update_q(agent, fvr)"
   ]
  },
  {
   "cell_type": "markdown",
   "id": "460013f6",
   "metadata": {},
   "source": [
    "# Improving\n",
    "\n",
    "So learning is not necessarily useful by itself, we also want the agent to be able to take better decision, so we improve the policy, by making it $\\epsilon$-greedy over our improved q function."
   ]
  },
  {
   "cell_type": "code",
   "execution_count": 8,
   "id": "6a930369",
   "metadata": {},
   "outputs": [],
   "source": [
    "def get_best_action(s, q, actions):\n",
    "    best_score = float(\"-inf\")\n",
    "    for a in actions:\n",
    "        if (score := q(s, a)) > best_score:\n",
    "            best_score = score\n",
    "            best_action = a\n",
    "    return best_action\n",
    "\n",
    "\n",
    "def get_e_greedy_policy(q, states, actions, epsilon=0.1):\n",
    "    policy_map = {}\n",
    "    p_0 = epsilon / len(actions)\n",
    "    for s in states:\n",
    "        best_action = get_best_action(s, q, actions)\n",
    "        for a in actions:\n",
    "            policy_map[(s, a)] = p_0 + (1 - epsilon if a == best_action else 0)\n",
    "\n",
    "    return (\n",
    "        lambda s, a: policy_map[(s, a)]\n",
    "        if (s, a) in policy_map.keys()\n",
    "        else 1 / len(actions)\n",
    "    )\n",
    "\n",
    "\n",
    "pi0 = get_e_greedy_policy(\n",
    "    agent.q, agent.get_visited_states(), agent.actions, epsilon=0.1\n",
    ")  # review"
   ]
  },
  {
   "cell_type": "code",
   "execution_count": 9,
   "id": "cf0256f2",
   "metadata": {},
   "outputs": [
    {
     "name": "stdout",
     "output_type": "stream",
     "text": [
      " ↑  ←  ↑  ↑  ↑ \n",
      "\n",
      " →  ↓  ↑  █  ↑ \n",
      "\n",
      " →  █  ↑  ☠  ↑ \n",
      "\n",
      " ↓  █  ↑  ↑  ✘ \n",
      "\n",
      "\n"
     ]
    }
   ],
   "source": [
    "pi0r = get_policy_rec(pi0, gworld, agent.actions)\n",
    "print(get_policy_rec_str(pi0r, gworld))"
   ]
  },
  {
   "cell_type": "markdown",
   "id": "689ea119",
   "metadata": {},
   "source": [
    "# Looping"
   ]
  },
  {
   "cell_type": "markdown",
   "id": "f891f527",
   "metadata": {},
   "source": [
    "Of course an agent isn't abble to get very good over a single episode, so lets put this in a GPI loop where it will keep learning and improving."
   ]
  },
  {
   "cell_type": "code",
   "execution_count": 10,
   "id": "ab4424a3",
   "metadata": {
    "scrolled": true
   },
   "outputs": [
    {
     "name": "stdout",
     "output_type": "stream",
     "text": [
      " →  →  →  →  ↓ \n",
      "\n",
      " →  →  ↑  █  ↓ \n",
      "\n",
      " ↑  █  ↑  ☠  ↓ \n",
      "\n",
      " ↑  █  ↑  →  ✘ \n",
      "\n",
      "\n"
     ]
    }
   ],
   "source": [
    "total_episodes = 200\n",
    "\n",
    "agent = BasicAgent(\n",
    "    #     world = gworld,\n",
    "    reward_function=reward,\n",
    "    actions=[Action.up, Action.down, Action.left, Action.right],\n",
    ")\n",
    "returns_history = []\n",
    "lengths_history = []\n",
    "\n",
    "for i in range(total_episodes):\n",
    "    episode_terminated, episode_states, episode_actions, episode_rewards = run_episode(\n",
    "        agent, gworld\n",
    "    )\n",
    "    episode_returns = returns_from_reward(episode_rewards)\n",
    "\n",
    "    if episode_terminated:\n",
    "        fvr = first_visit_return(episode_states, episode_actions, episode_returns)\n",
    "        update_q(agent, fvr)\n",
    "\n",
    "        agent.policy = get_e_greedy_policy(\n",
    "            agent.q, agent.get_visited_states(), agent.actions, epsilon=0.1\n",
    "        )\n",
    "\n",
    "    returns_history.append(episode_returns[0])\n",
    "    lengths_history.append(len(episode_returns))\n",
    "\n",
    "pi_r = get_policy_rec(agent.policy, gworld, agent.actions)\n",
    "print(get_policy_rec_str(pi_r, gworld))"
   ]
  },
  {
   "cell_type": "code",
   "execution_count": 11,
   "id": "a1cd49c5",
   "metadata": {},
   "outputs": [
    {
     "data": {
      "image/png": "[encoded data removed]",
      "text/plain": [
       "<Figure size 1008x432 with 1 Axes>"
      ]
     },
     "metadata": {
      "needs_background": "light"
     },
     "output_type": "display_data"
    }
   ],
   "source": [
    "fig, ax = plt.subplots(figsize=(14, 6))\n",
    "\n",
    "ax.plot(lengths_history)\n",
    "\n",
    "ax.set(xlabel=\"# of episodes\", ylabel=\"episode length\", ylim=[0, 100])\n",
    "ax.grid()\n",
    "\n",
    "plt.show()"
   ]
  },
  {
   "cell_type": "markdown",
   "id": "0bc6979a",
   "metadata": {},
   "source": [
    "The agent improved a lot! However... this clearly isn't ideal.\n",
    "\n",
    "There are two main problems here, one is that by following this $\\epsilon$-greedy policy the agent is very unlikely to reach certain states, like (0,2), this makes learning good estimates for $q$ very hard in this states. This can be particularly problematic if we have 'stable' sub-optimal policies, where many exploration steps would be needed to get better estimates; this is kinda the case here, on state (2,2) for instance, where down is a better action, but to learn this we would need to also select ((1,2), down), ((0,2), right) and ((0,3), right) which is unlikelly to happen(less then $\\epsilon^3(1-\\epsilon)$ episodes that reach (2,2) will have this actions) under the current policy.\n",
    "\n",
    "The other problem is that the agent really wants to avoid getting near the trap, that's because its stochastic behavior has a chance to throw it in the trap at any step. This leads to a solution that is non-optimal (in the sense that the geedy policy over the final estimate of $q$ isn't optimal), but very safe - it will infact be the optimal $\\epsilon$-greedy policy if we run this long enough, which is clearly as good as we can hope for this approach.\n",
    "\n",
    "In theory both problems could be dealt with by running this process a lot longer and choosing a small enough value for epsilon or decreasing it appropriately. In practice this is just too slow, that's because the two problems compete with each other, as small values of $\\epsilon$ mean less exploration, which makes learning good actions in 'rare' states very difficult, but large values makes the agent more likely to fall into the trap by exploring, which makes it averse to states near the trap. \n",
    "\n",
    "The conclusion is that the agent learns, but it has some problems and we need better ways of dealing with them."
   ]
  }
 ],
 "metadata": {
  "kernelspec": {
   "display_name": "Python 3 (ipykernel)",
   "language": "python",
   "name": "python3"
  },
  "language_info": {
   "codemirror_mode": {
    "name": "ipython",
    "version": 3
   },
   "file_extension": ".py",
   "mimetype": "text/x-python",
   "name": "python",
   "nbconvert_exporter": "python",
   "pygments_lexer": "ipython3",
   "version": "3.9.5"
  }
 },
 "nbformat": 4,
 "nbformat_minor": 5
}
