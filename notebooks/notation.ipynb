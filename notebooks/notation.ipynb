{
 "cells": [
  {
   "cell_type": "markdown",
   "id": "a47434fe",
   "metadata": {},
   "source": [
    "Given a world $w$:\n",
    "\n",
    "Symbol                                          | Description\n",
    ":--------------------------------------------   | :--------------\n",
    "$$S$$                                           | set of all possible states  \n",
    "$$A$$                                           | set of all possible actions  \n",
    "$$M_w: S \\times A \\to \\mathbb{P}(S) $$          | model of the world dynamics\n",
    "$$V: S \\to \\mathbb{R} $$                        | Value function\n",
    "$$Q: S \\times A \\to \\mathbb{R} $$               | q function"
   ]
  }
 ],
 "metadata": {
  "kernelspec": {
   "display_name": "Python 3",
   "language": "python",
   "name": "python3"
  },
  "language_info": {
   "codemirror_mode": {
    "name": "ipython",
    "version": 3
   },
   "file_extension": ".py",
   "mimetype": "text/x-python",
   "name": "python",
   "nbconvert_exporter": "python",
   "pygments_lexer": "ipython3",
   "version": "3.9.5"
  }
 },
 "nbformat": 4,
 "nbformat_minor": 5
}
